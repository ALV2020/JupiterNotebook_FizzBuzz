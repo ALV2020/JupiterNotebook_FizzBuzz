{
 "cells": [
  {
   "cell_type": "code",
   "execution_count": 6,
   "id": "2fcc5972",
   "metadata": {},
   "outputs": [
    {
     "name": "stdout",
     "output_type": "stream",
     "text": [
      "FizzBuzz\n"
     ]
    }
   ],
   "source": [
    "def fizz_buzz (input):\n",
    "    if (input % 3 == 0) and (input % 5 == 0):\n",
    "        return \"FizzBuzz\"\n",
    "    if input % 3 == 0:\n",
    "        return \"Fizz\"\n",
    "    if input % 5 == 0:\n",
    "        return \"Buzz\"\n",
    "    return input\n",
    "\n",
    "print(fizz_buzz(15))"
   ]
  },
  {
   "cell_type": "code",
   "execution_count": null,
   "id": "ea0ef0b6",
   "metadata": {},
   "outputs": [],
   "source": []
  }
 ],
 "metadata": {
  "kernelspec": {
   "display_name": "Python 3 (ipykernel)",
   "language": "python",
   "name": "python3"
  },
  "language_info": {
   "codemirror_mode": {
    "name": "ipython",
    "version": 3
   },
   "file_extension": ".py",
   "mimetype": "text/x-python",
   "name": "python",
   "nbconvert_exporter": "python",
   "pygments_lexer": "ipython3",
   "version": "3.9.7"
  }
 },
 "nbformat": 4,
 "nbformat_minor": 5
}
